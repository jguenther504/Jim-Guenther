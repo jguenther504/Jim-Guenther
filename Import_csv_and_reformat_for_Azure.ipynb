{
  "nbformat": 4,
  "nbformat_minor": 0,
  "metadata": {
    "colab": {
      "provenance": [],
      "mount_file_id": "1ELmZWrWi2TkN08ww5iWso7X4kdqw0l8H",
      "authorship_tag": "ABX9TyOIMNibhecQhCOPtOwtjcMl",
      "include_colab_link": true
    },
    "kernelspec": {
      "name": "python3",
      "display_name": "Python 3"
    },
    "language_info": {
      "name": "python"
    }
  },
  "cells": [
    {
      "cell_type": "markdown",
      "metadata": {
        "id": "view-in-github",
        "colab_type": "text"
      },
      "source": [
        "<a href=\"https://colab.research.google.com/github/jguenther504/Jim-Guenther/blob/Mariposa/Import_csv_and_reformat_for_Azure.ipynb\" target=\"_parent\"><img src=\"https://colab.research.google.com/assets/colab-badge.svg\" alt=\"Open In Colab\"/></a>"
      ]
    },
    {
      "cell_type": "markdown",
      "source": [
        "12/15/23 <br>\n",
        "Version 0.9<br>\n",
        "Import csv and reformat for Azure.  This code will allow the user to select a RS csv data file and reformat for upload to the Mariposa Azure database.  The user will name the output  file and save to the parent google drive as a csv.<br>\n",
        "\n",
        "Mariposa Technology<br>\n",
        "James Guenther - CSO Mariposa Technology<br>\n",
        "jguenther@mariposatechnology.com"
      ],
      "metadata": {
        "id": "rJY9p4geefgP"
      }
    },
    {
      "cell_type": "code",
      "execution_count": null,
      "metadata": {
        "id": "-7PdBGCNwOss"
      },
      "outputs": [],
      "source": [
        "#import csv file from google drive for upload to Azure platoform"
      ]
    },
    {
      "cell_type": "code",
      "source": [
        "import pandas as pd\n",
        "!pip install tabula-py\n",
        "import tabula\n",
        "import re\n",
        "\n"
      ],
      "metadata": {
        "id": "IEEH61zFwWeO"
      },
      "execution_count": null,
      "outputs": []
    },
    {
      "cell_type": "code",
      "source": [
        "# specify the file path of the RS csv file to use\n",
        "input= input(\"Paste input csv file path\")\n",
        "dfRSdata= pd.read_csv(input, header=None)\n",
        "\n",
        "#test file used for code development\n",
        "#dfRSdata= pd.read_csv('/content/drive/MyDrive/canolaoilRS 2m timepoints.csv', header=None)\n",
        "dfRSdata\n"
      ],
      "metadata": {
        "id": "tplfXJeYypYe"
      },
      "execution_count": null,
      "outputs": []
    },
    {
      "cell_type": "code",
      "source": [
        " # Get the number of columns in the DataFrame.  this is used in the for loop below.\n",
        "num_columnsdfRSdata = len(dfRSdata.columns)\n",
        "num_columnsdfRSdata"
      ],
      "metadata": {
        "id": "2aeuQtiy2bZ9"
      },
      "execution_count": null,
      "outputs": []
    },
    {
      "cell_type": "code",
      "source": [
        "#provides the table format for uploading into Azure.  This uses a file template for the tables in Azure\n",
        "#dfscandata= pd.read_csv('/content/drive/MyDrive/Colab Notebooks/Azure db format/scandata.csv')\n",
        "#remove characters\n",
        "# Extract clean column names\n",
        "#dfscandata = dfscandata['scandata'].apply(lambda x: x.replace(',[', '').replace(']', '').strip())\n",
        "#dfscandata = dfscandata[:-1]\n",
        "#dfscandata= dfscandata.to_frame()\n",
        "#dfscandata = dfscandata.drop('Unnamed: 0', axis=1)\n",
        "#dfscandata=dfscandata.transpose()\n",
        "# Drop the original 'scandata' column\n",
        "#headers = dfscandata.iloc[0]\n",
        "#dfscandata  = pd.DataFrame(dfscandata.values[1:], columns=headers)\n",
        "\n",
        "#dfscandata = dfscandata.drop(columns=['scandata'])\n",
        "#dfscandata = dfscandata.reset_index()\n",
        "#dfscandata.reset_index(drop=True, inplace=True)\n",
        "#df_reset = df.reset_index(drop=True)\n",
        "#dfscandata= new_df\n",
        "\n",
        "#print(dfscandata)\n",
        "#dfscandata\n",
        "#list(dfscandata.columns)\n",
        "\n",
        "\n",
        "#make an empty dataframe with the Azure format\n",
        "# Define column headers\n",
        "columns = ['id', 'device_id', 'scan_number', 'xaxis', 'sors', 'bzero', 'boffset']\n",
        "\n",
        "# Create an empty DataFrame with the specified column headers\n",
        "dfscandata = pd.DataFrame(columns=columns)\n",
        "\n",
        "# Display the empty DataFrame\n",
        "print(dfscandata)"
      ],
      "metadata": {
        "id": "4AqtzJF9oA7Z",
        "colab": {
          "base_uri": "https://localhost:8080/"
        },
        "outputId": "9776a938-b92c-4fba-ded9-458c88414213"
      },
      "execution_count": 8,
      "outputs": [
        {
          "output_type": "stream",
          "name": "stdout",
          "text": [
            "Empty DataFrame\n",
            "Columns: [id, device_id, scan_number, xaxis, sors, bzero, boffset]\n",
            "Index: []\n"
          ]
        }
      ]
    },
    {
      "cell_type": "code",
      "source": [
        "    dfscandatafinal = pd.DataFrame()\n",
        "    for i in range(0, num_columnsdfRSdata, 4):\n",
        "        dfscandata['xaxis']= dfRSdata.iloc[2:1803,0+i].astype(str).str.split('.', expand=True)[0].astype(int)\n",
        "        dfscandata['sors']= dfRSdata.iloc[2:1803,1+i]\n",
        "        dfscandata['bzero']= dfRSdata.iloc[2:1803,2+i]\n",
        "        dfscandata['boffset']= dfRSdata.iloc[2:1803,3+i]\n",
        "        dfscandata['device_id']= dfRSdata.iloc[0,1+i]\n",
        "        dfscandata['scan_number']= dfRSdata.iloc[0,3+i]\n",
        "        # Concatenate the new columns to the existing DataFrame\n",
        "        dfscandatafinal = pd.concat([dfscandatafinal, dfscandata], axis=0)\n",
        "\n",
        "\n",
        "dfscandatafinal"
      ],
      "metadata": {
        "id": "uIYF0SO_Qre5"
      },
      "execution_count": null,
      "outputs": []
    },
    {
      "cell_type": "code",
      "source": [
        "#export the following dataframe to csv without index\n",
        "output= input(\"Save to MyDrive.  What is the outupt file name?\")\n",
        "dfscandatafinal.to_csv(f'/content/drive/MyDrive/{output}.csv', index=False)"
      ],
      "metadata": {
        "id": "3WNi7zrNbhLk"
      },
      "execution_count": null,
      "outputs": []
    }
  ]
}