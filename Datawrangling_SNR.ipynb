{
  "nbformat": 4,
  "nbformat_minor": 0,
  "metadata": {
    "colab": {
      "provenance": [],
      "mount_file_id": "1A5o7sW-iSFYoQL-GAP-ponwES9q9Wtee",
      "authorship_tag": "ABX9TyO6wT5Ij6kOMKIszPhD4OMu",
      "include_colab_link": true
    },
    "kernelspec": {
      "name": "python3",
      "display_name": "Python 3"
    },
    "language_info": {
      "name": "python"
    }
  },
  "cells": [
    {
      "cell_type": "markdown",
      "metadata": {
        "id": "view-in-github",
        "colab_type": "text"
      },
      "source": [
        "<a href=\"https://colab.research.google.com/github/jguenther504/Jim-Guenther/blob/Mariposa/Datawrangling_SNR.ipynb\" target=\"_parent\"><img src=\"https://colab.research.google.com/assets/colab-badge.svg\" alt=\"Open In Colab\"/></a>"
      ]
    },
    {
      "cell_type": "markdown",
      "source": [
        "The spectra were vetted using a peak threshold and signal-to-noise ratio (SNR) algorithms developed in\n",
        "previous projects for Mariposa Technology. The peak threshold algorithm measured absolute peak\n",
        "heights at 1526. 1325, 1156, and 747 cm-1 as these represent the four biggest peaks in the spectra\n",
        "received. A threshold of 100 counts was used, where if for any spectrum one of these peaks was less\n",
        "than 100 counts the entire spectrum was rejected. The SNR for each spectrum was calculated by\n",
        "measuring the peak-to-peak noise between 2000 and 1800 cm-1, and the signal was measured as the\n",
        "absolute height at 1526, which was typically the biggest peak in each spectrum."
      ],
      "metadata": {
        "id": "tmHtEMPTRl0j"
      }
    },
    {
      "cell_type": "code",
      "source": [
        "import pandas as pd\n",
        "import numpy as np\n",
        "!pip install scipy\n",
        "from scipy.signal import find_peaks\n",
        "\n"
      ],
      "metadata": {
        "colab": {
          "base_uri": "https://localhost:8080/"
        },
        "id": "Vjv9ApBIuprN",
        "outputId": "9d878474-cc1f-48a3-d4ac-e42ec4842a74"
      },
      "execution_count": 1,
      "outputs": [
        {
          "output_type": "stream",
          "name": "stdout",
          "text": [
            "Requirement already satisfied: scipy in /usr/local/lib/python3.10/dist-packages (1.11.3)\n",
            "Requirement already satisfied: numpy<1.28.0,>=1.21.6 in /usr/local/lib/python3.10/dist-packages (from scipy) (1.23.5)\n"
          ]
        }
      ]
    },
    {
      "cell_type": "code",
      "source": [
        "#Load data set\n",
        "rs_data= ('/content/drive/MyDrive/Test SNR threshold/Test samples.xlsx')\n",
        "df = pd.read_excel(rs_data)\n",
        "df\n",
        "dfextract= df.iloc[0,1:]\n"
      ],
      "metadata": {
        "id": "3_iRnQwGvg3O"
      },
      "execution_count": 2,
      "outputs": []
    },
    {
      "cell_type": "code",
      "source": [
        "#define snr code\n",
        "import numpy as np\n",
        "import statistics\n",
        "\n",
        "\n",
        "m = statistics.mean(dfextract)\n",
        "sd = statistics.stdev(dfextract)\n",
        "\n"
      ],
      "metadata": {
        "id": "B82C85gI3BGM"
      },
      "execution_count": 3,
      "outputs": []
    },
    {
      "cell_type": "code",
      "source": [
        "#calculate SNR from rs_data\n",
        "rs_snr= m/sd\n",
        "#rs_snr = signaltonoise(dfextract, axis=0, ddof=0)\n",
        "rs_snr= rs_snr*100\n",
        "print(m)\n",
        "print(sd)\n",
        "print(rs_snr)"
      ],
      "metadata": {
        "colab": {
          "base_uri": "https://localhost:8080/"
        },
        "id": "B5rvKGEQvzQI",
        "outputId": "5c7eebff-782b-45d6-c7e5-ac0cff5d79e3"
      },
      "execution_count": 4,
      "outputs": [
        {
          "output_type": "stream",
          "name": "stdout",
          "text": [
            "370.9897625681405\n",
            "742.6505290258118\n",
            "49.954823711604234\n"
          ]
        }
      ]
    },
    {
      "cell_type": "code",
      "execution_count": 5,
      "metadata": {
        "colab": {
          "base_uri": "https://localhost:8080/"
        },
        "id": "gbslBYs9szqG",
        "outputId": "ca90352b-152a-472a-a6c9-52bac4695280"
      },
      "outputs": [
        {
          "name": "stdout",
          "output_type": "stream",
          "text": [
            "Enter the SNR threshold 30\n"
          ]
        },
        {
          "output_type": "execute_result",
          "data": {
            "text/plain": [
              "30.0"
            ]
          },
          "metadata": {},
          "execution_count": 5
        }
      ],
      "source": [
        "# Singal to Noise Ratio\n",
        "#enter the desired SNR threshold\n",
        "snrt = input('Enter the SNR threshold ')\n",
        "snrt= float(snrt)\n",
        "snrt"
      ]
    },
    {
      "cell_type": "code",
      "source": [
        "#check if snr is => snrt\n",
        "\n",
        "if snrt <= rs_snr:\n",
        "  print(\"RS Passed SNR threshold\")\n",
        "else:\n",
        "  print(\"RS FAILED SNR Threshold\")"
      ],
      "metadata": {
        "colab": {
          "base_uri": "https://localhost:8080/"
        },
        "id": "Q4XVvlJzwB80",
        "outputId": "a7ac1094-3692-4aa0-f361-1ab732260f6e"
      },
      "execution_count": 6,
      "outputs": [
        {
          "output_type": "stream",
          "name": "stdout",
          "text": [
            "RS Passed SNR threshold\n"
          ]
        }
      ]
    },
    {
      "cell_type": "code",
      "source": [
        "from pandas.core.indexes.api import Index\n",
        "import numpy as np\n",
        "from scipy.signal import find_peaks\n",
        "import matplotlib.pyplot as plt\n",
        "#peak selection\n",
        "peaks= find_peaks(dfextract)\n",
        "scannumber=df.iloc[0,0]\n",
        "scannumber=str(scannumber)\n",
        "xaxis= df.iloc[0,0:]\n",
        "plot = dfextract.plot(title=\"RS scan \"+scannumber)\n",
        "default_x_ticks = range(len(df.iloc[0:,0]))\n",
        "#find peaks\n",
        "\n"
      ],
      "metadata": {
        "colab": {
          "base_uri": "https://localhost:8080/",
          "height": 452
        },
        "id": "1SZW6vAZ1I-Y",
        "outputId": "35ceedb1-86a9-4185-ee61-061da484fe74"
      },
      "execution_count": 7,
      "outputs": [
        {
          "output_type": "display_data",
          "data": {
            "text/plain": [
              "<Figure size 640x480 with 1 Axes>"
            ],
            "image/png": "[encoded data removed]"
          },
          "metadata": {}
        }
      ]
    },
    {
      "cell_type": "code",
      "source": [
        "#find peaks\n",
        "# positions 1526. 1325, 1156, and 747 cm-1\n",
        "p1= dfextract.loc[1526]\n",
        "p1=float(p1)\n",
        "p2= dfextract.loc[1325]\n",
        "p2=float(p2)\n",
        "p3= dfextract.loc[1156]\n",
        "p3=float(p3)\n",
        "p4= dfextract.loc[747]\n",
        "p4=float(p4)\n",
        "\n",
        "# set peak threshold\n",
        "pthreshold = input('Enter the minimum peak threshold counts ')\n",
        "pthreshold= float(pthreshold)\n",
        "#pass fail arguements for peak height\n",
        "if p1 >= pthreshold:\n",
        "  print(\"RS Passed peak 1 1526 cm-1 threshold\")\n",
        "else:\n",
        "  print(\"RS FAILED peak 1 1526 cm-1 threshold\")\n",
        "\n",
        "if p2 >= pthreshold:\n",
        "  print(\"RS Passed peak 2 1325 cm-1 threshold\")\n",
        "else:\n",
        "  print(\"RS FAILED peak 2 1325 cm-1 threshold\")\n",
        "\n",
        "if p3 >= pthreshold:\n",
        "  print(\"RS Passed peak 3 1156 cm-1 threshold\")\n",
        "else:\n",
        "  print(\"RS FAILED peak 3 1156 cm-1 threshold\")\n",
        "\n",
        "if p4 >= pthreshold:\n",
        "  print(\"RS Passed peak 4 747 cm-1 threshold\")\n",
        "else:\n",
        "  print(\"RS FAILED peak 4 747 cm-1 threshold\")\n",
        "\n",
        "#maxpeak= max(dfextract)\n",
        "#print(dfextract)\n",
        "#maxpeak\n",
        "#ind= dfextract.index\n",
        "#ind\n",
        "#\n",
        "#indx"
      ],
      "metadata": {
        "colab": {
          "base_uri": "https://localhost:8080/"
        },
        "id": "kwg4ItivLbwh",
        "outputId": "0cb1c6f9-ff63-4ee9-95ec-d0c031409ba0"
      },
      "execution_count": 8,
      "outputs": [
        {
          "output_type": "stream",
          "name": "stdout",
          "text": [
            "Enter the minimum peak threshold counts 100\n",
            "RS Passed peak 1 1526 cm-1 threshold\n",
            "RS Passed peak 2 1325 cm-1 threshold\n",
            "RS Passed peak 3 1156 cm-1 threshold\n",
            "RS Passed peak 4 747 cm-1 threshold\n"
          ]
        }
      ]
    },
    {
      "cell_type": "code",
      "source": [
        "#Final pass fail\n",
        "if ((snrt <= rs_snr) and (p1 >= pthreshold) and (p2 >= pthreshold) and (p3 >= pthreshold) and (p4 >= pthreshold)):\n",
        "    print(\"PASS\")\n",
        "else:\n",
        "    print(\"FAIL\")"
      ],
      "metadata": {
        "colab": {
          "base_uri": "https://localhost:8080/"
        },
        "id": "EaokJQ0VyCfp",
        "outputId": "2bdad2a8-d551-4ada-e0e2-55fe793b2ec7"
      },
      "execution_count": 10,
      "outputs": [
        {
          "output_type": "stream",
          "name": "stdout",
          "text": [
            "PASS\n"
          ]
        }
      ]
    },
    {
      "cell_type": "code",
      "source": [],
      "metadata": {
        "id": "B08Oe7ZKw8wS"
      },
      "execution_count": null,
      "outputs": []
    }
  ]
}