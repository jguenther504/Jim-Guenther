{
    "metadata": {
        "kernelspec": {
            "name": "python3",
            "display_name": "Python 3",
            "language": "python"
        },
        "language_info": {
            "name": "python",
            "version": "3.11.5",
            "mimetype": "text/x-python",
            "codemirror_mode": {
                "name": "ipython",
                "version": 3
            },
            "pygments_lexer": "ipython3",
            "nbconvert_exporter": "python",
            "file_extension": ".py"
        }
    },
    "nbformat_minor": 2,
    "nbformat": 4,
    "cells": [
        {
            "cell_type": "markdown",
            "source": [
                "Peak height analysis of Raman spectra"
            ],
            "metadata": {
                "language": "python",
                "azdata_cell_guid": "df54bff1-0a1c-420f-81b2-5ece4c2e3173"
            },
            "attachments": {}
        },
        {
            "cell_type": "code",
            "source": [
                "import pyodbc\r\n",
                "import pandas as pd\r\n",
                "\r\n",
                "\r\n",
                "import numpy as np\r\n",
                "!pip install scipy\r\n",
                "from scipy.signal import find_peaks\r\n",
                ""
            ],
            "metadata": {
                "azdata_cell_guid": "42be9acc-d4e7-4001-abdc-b300e42563f0",
                "language": "python"
            },
            "outputs": [
                {
                    "name": "stdout",
                    "text": "Requirement already satisfied: scipy in c:\\users\\jimgu\\anaconda3\\lib\\site-packages (1.11.1)\nRequirement already satisfied: numpy<1.28.0,>=1.21.6 in c:\\users\\jimgu\\anaconda3\\lib\\site-packages (from scipy) (1.24.3)\n",
                    "output_type": "stream"
                }
            ],
            "execution_count": 168
        },
        {
            "cell_type": "code",
            "source": [
                "conn = pyodbc.connect('DRIVER={SQL Server};'\r\n",
                "'Server=pamap.database.windows.net;'\r\n",
                "'Database=pamap;'\r\n",
                "\"UID=jim;\"\r\n",
                "\"PWD=jGgr3$2tXyYg8!;\")"
            ],
            "metadata": {
                "language": "python",
                "azdata_cell_guid": "2f7f1c3a-5e07-4611-938c-3c8ca86180fe"
            },
            "outputs": [],
            "execution_count": 169
        },
        {
            "cell_type": "code",
            "source": [
                "deviceid =input('what is the device_id: ') #written as device_id in database under dbo.scandata\r\n",
                "scan = input('What is the scan_id:') #written as scan_id in database under dbo.scandata\r\n",
                "#deviceid= \"RES90284\"\r\n",
                "#scan=803"
            ],
            "metadata": {
                "language": "python",
                "azdata_cell_guid": "6dd548ab-fbdd-4b15-ba65-ddaf4f2e9a64"
            },
            "outputs": [],
            "execution_count": 222
        },
        {
            "cell_type": "code",
            "source": [
                "\r\n",
                "query = f\"SELECT * FROM dbo.scandata WHERE scan_number = {scan} AND device_id = '{deviceid}'\"\r\n",
                "df = pd.read_sql_query(query, conn)\r\n",
                "print(df)"
            ],
            "metadata": {
                "language": "python",
                "azdata_cell_guid": "7af1aeb1-b71e-4855-ad4e-7fc0bf71e3b3",
                "tags": []
            },
            "outputs": [
                {
                    "name": "stderr",
                    "text": "<ipython-input-223-07e44058d623>:2: UserWarning: pandas only supports SQLAlchemy connectable (engine/connection) or database string URI or sqlite3 DBAPI2 connection. Other DBAPI2 objects are not tested. Please consider using SQLAlchemy.\n  df = pd.read_sql_query(query, conn)\n",
                    "output_type": "stream"
                },
                {
                    "name": "stdout",
                    "text": "            id   device_id  scan_number  xaxis    sors   bzero  boffset\n0     40723879  RES90284            803    200   0.000   0.000    0.000\n1     40723880  RES90284            803    201   0.000   0.000    0.000\n2     40723881  RES90284            803    202   0.000   0.000    0.000\n3     40723882  RES90284            803    203   0.000   0.000    0.000\n4     40723883  RES90284            803    204   0.000   0.000    0.000\n...        ...         ...          ...    ...     ...     ...      ...\n1796  40725675  RES90284            803   1996  17.517  17.517   17.517\n1797  40725676  RES90284            803   1997  10.121  10.121   10.121\n1798  40725677  RES90284            803   1998   0.000  -6.584   -6.584\n1799  40725678  RES90284            803   1999   0.000 -10.596  -10.596\n1800  40725679  RES90284            803   2000  18.122  18.122   18.122\n\n[1801 rows x 7 columns]\n",
                    "output_type": "stream"
                }
            ],
            "execution_count": 223
        },
        {
            "cell_type": "code",
            "source": [
                "\r\n",
                "#dfextract= df.iloc[150:,:] #reminder row, column\r\n",
                "#print(dfextract)\r\n",
                "# iterating the columns\r\n",
                "#for col in dfextract.columns:\r\n",
                "    #print(col)"
            ],
            "metadata": {
                "language": "python",
                "azdata_cell_guid": "4210995e-549e-42e4-bf64-d9bddbdff02d"
            },
            "outputs": [],
            "execution_count": 176
        },
        {
            "cell_type": "code",
            "source": [
                "#change index to 'xaxis'\r\n",
                "#dfextract = dfextract.set_index('xaxis')\r\n",
                "#noise= dfextract.loc[1,soros]#reminder row, column\r\n",
                "#print(noise)\r\n",
                "#noise= dfextract.loc[xaxis]\r\n",
                "#noise\r\n",
                "#dfextract\r\n",
                "#noise = dfextract['bzero'].loc[1800:2000]\r\n",
                "#noise"
            ],
            "metadata": {
                "language": "python",
                "azdata_cell_guid": "7eb4553d-10a7-4729-b346-6026a566c3cb"
            },
            "outputs": [
                {
                    "traceback": [
                        "\u001b[1;31m---------------------------------------------------------------------------\u001b[0m",
                        "\u001b[1;31mKeyError\u001b[0m                                  Traceback (most recent call last)",
                        "\u001b[1;32m<ipython-input-201-732f3a85f77d>\u001b[0m in \u001b[0;36m?\u001b[1;34m()\u001b[0m\n\u001b[0;32m      1\u001b[0m \u001b[1;31m#change index to 'xaxis'\u001b[0m\u001b[1;33m\u001b[0m\u001b[1;33m\u001b[0m\u001b[0m\n\u001b[1;32m----> 2\u001b[1;33m \u001b[0mdfextract\u001b[0m \u001b[1;33m=\u001b[0m \u001b[0mdfextract\u001b[0m\u001b[1;33m.\u001b[0m\u001b[0mset_index\u001b[0m\u001b[1;33m(\u001b[0m\u001b[1;34m'xaxis'\u001b[0m\u001b[1;33m)\u001b[0m\u001b[1;33m\u001b[0m\u001b[1;33m\u001b[0m\u001b[0m\n\u001b[0m\u001b[0;32m      3\u001b[0m \u001b[1;31m#noise= dfextract.loc[1,soros]#reminder row, column\u001b[0m\u001b[1;33m\u001b[0m\u001b[1;33m\u001b[0m\u001b[0m\n\u001b[0;32m      4\u001b[0m \u001b[1;31m#print(noise)\u001b[0m\u001b[1;33m\u001b[0m\u001b[1;33m\u001b[0m\u001b[0m\n\u001b[0;32m      5\u001b[0m \u001b[1;31m#noise= dfextract.loc[xaxis]\u001b[0m\u001b[1;33m\u001b[0m\u001b[1;33m\u001b[0m\u001b[0m\n",
                        "\u001b[1;32m~\\anaconda3\\Lib\\site-packages\\pandas\\core\\frame.py\u001b[0m in \u001b[0;36m?\u001b[1;34m(self, keys, drop, append, inplace, verify_integrity)\u001b[0m\n\u001b[0;32m   5855\u001b[0m                     \u001b[1;32mif\u001b[0m \u001b[1;32mnot\u001b[0m \u001b[0mfound\u001b[0m\u001b[1;33m:\u001b[0m\u001b[1;33m\u001b[0m\u001b[1;33m\u001b[0m\u001b[0m\n\u001b[0;32m   5856\u001b[0m                         \u001b[0mmissing\u001b[0m\u001b[1;33m.\u001b[0m\u001b[0mappend\u001b[0m\u001b[1;33m(\u001b[0m\u001b[0mcol\u001b[0m\u001b[1;33m)\u001b[0m\u001b[1;33m\u001b[0m\u001b[1;33m\u001b[0m\u001b[0m\n\u001b[0;32m   5857\u001b[0m \u001b[1;33m\u001b[0m\u001b[0m\n\u001b[0;32m   5858\u001b[0m         \u001b[1;32mif\u001b[0m \u001b[0mmissing\u001b[0m\u001b[1;33m:\u001b[0m\u001b[1;33m\u001b[0m\u001b[1;33m\u001b[0m\u001b[0m\n\u001b[1;32m-> 5859\u001b[1;33m             \u001b[1;32mraise\u001b[0m \u001b[0mKeyError\u001b[0m\u001b[1;33m(\u001b[0m\u001b[1;34mf\"None of {missing} are in the columns\"\u001b[0m\u001b[1;33m)\u001b[0m\u001b[1;33m\u001b[0m\u001b[1;33m\u001b[0m\u001b[0m\n\u001b[0m\u001b[0;32m   5860\u001b[0m \u001b[1;33m\u001b[0m\u001b[0m\n\u001b[0;32m   5861\u001b[0m         \u001b[1;32mif\u001b[0m \u001b[0minplace\u001b[0m\u001b[1;33m:\u001b[0m\u001b[1;33m\u001b[0m\u001b[1;33m\u001b[0m\u001b[0m\n\u001b[0;32m   5862\u001b[0m             \u001b[0mframe\u001b[0m \u001b[1;33m=\u001b[0m \u001b[0mself\u001b[0m\u001b[1;33m\u001b[0m\u001b[1;33m\u001b[0m\u001b[0m\n",
                        "\u001b[1;31mKeyError\u001b[0m: \"None of ['xaxis'] are in the columns\""
                    ],
                    "ename": "KeyError",
                    "evalue": "\"None of ['xaxis'] are in the columns\"",
                    "output_type": "error"
                }
            ],
            "execution_count": 201
        },
        {
            "cell_type": "code",
            "source": [
                "# From Brian Smith. The SNR for each spectrum was calculated by measuring the peak-to-peak noise between 2000 and 1800 cm-1, and the signal was measured as the absolute height at 1526, which was typically the biggest peak in each spectrum. A SNR threshold of 30 was used, where if the SNR of a spectrum was equal to or less than 30 it was rejected.\r\n",
                "#Peak-to-peak noise, measured in a classical sense, is simply the highest noise point across the measured region minus the lowest noise point.\r\n",
                "#Find peak to peak noise 2000-1800 cm-1\r\n",
                "noise = dfextract['bzero'].loc[1800:2000]\r\n",
                "maxnoise= max(noise)\r\n",
                "minnoise= min(noise)\r\n",
                "noisecalc= maxnoise-minnoise\r\n",
                "#peak height at 1526cm-1\r\n",
                "p1= dfextract['bzero'].loc[1526]\r\n",
                "p1=float(p1)\r\n",
                "snrcalc=p1/noisecalc\r\n",
                "print (maxnoise)\r\n",
                "print (minnoise)\r\n",
                "print (noisecalc)\r\n",
                "print(p1)\r\n",
                "print(snrcalc)\r\n",
                ""
            ],
            "metadata": {
                "language": "python",
                "azdata_cell_guid": "f9027294-2522-4a8c-adcc-07f69d4a5881"
            },
            "outputs": [
                {
                    "name": "stdout",
                    "text": "83.126\n-20.993\n104.119\n1061.35\n10.193624602618158\n",
                    "output_type": "stream"
                }
            ],
            "execution_count": 224
        },
        {
            "cell_type": "code",
            "source": [
                "#define snr code\r\n",
                "import numpy as np\r\n",
                "import statistics\r\n",
                "\r\n",
                "\r\n",
                "m = statistics.mean(dfextract['bzero'])\r\n",
                "sd = statistics.stdev(dfextract['bzero'])\r\n",
                ""
            ],
            "metadata": {
                "language": "python",
                "azdata_cell_guid": "39d30c6a-73a1-49f8-bd8b-ea892db03204"
            },
            "outputs": [],
            "execution_count": 225
        },
        {
            "cell_type": "code",
            "source": [
                "#calculate SNR from rs_data\r\n",
                "rs_snr= m/sd\r\n",
                "#rs_snr = signaltonoise(dfextract, axis=0, ddof=0)\r\n",
                "rs_snr= rs_snr\r\n",
                "print(m)\r\n",
                "print(sd)\r\n",
                "print(rs_snr)"
            ],
            "metadata": {
                "language": "python",
                "azdata_cell_guid": "a40e3b9e-12ec-47df-a6a3-0f8510a75792"
            },
            "outputs": [
                {
                    "name": "stdout",
                    "text": "101.59409751665657\n134.01005705463845\n0.7581080088282831\n",
                    "output_type": "stream"
                }
            ],
            "execution_count": 226
        },
        {
            "cell_type": "code",
            "source": [
                "# Singal to Noise Ratio\r\n",
                "#enter the desired SNR threshold\r\n",
                "snrt = input('Enter the SNR threshold ')\r\n",
                "snrt= float(snrt)\r\n",
                "snrt"
            ],
            "metadata": {
                "language": "python",
                "azdata_cell_guid": "3f6aed68-b865-4bf7-bf9d-dd401734ee6f"
            },
            "outputs": [
                {
                    "data": {
                        "text/plain": "10.0"
                    },
                    "metadata": {},
                    "execution_count": 227,
                    "output_type": "execute_result"
                }
            ],
            "execution_count": 227
        },
        {
            "cell_type": "code",
            "source": [
                "#check if snr is => snrt\r\n",
                "\r\n",
                "if snrt <= snrcalc:\r\n",
                "  print(\"RS Passed SNR threshold\")\r\n",
                "else:\r\n",
                "  print(\"RS FAILED SNR Threshold\")"
            ],
            "metadata": {
                "language": "python",
                "azdata_cell_guid": "ddc35549-33b0-4742-9a49-a7722387acaf"
            },
            "outputs": [
                {
                    "name": "stdout",
                    "text": "RS Passed SNR threshold\n",
                    "output_type": "stream"
                }
            ],
            "execution_count": 228
        },
        {
            "cell_type": "code",
            "source": [
                "from pandas.core.indexes.api import Index\r\n",
                "import numpy as np\r\n",
                "from scipy.signal import find_peaks\r\n",
                "import matplotlib.pyplot as plt\r\n",
                "#peak selection\r\n",
                "peaks= find_peaks(dfextract['bzero'])\r\n",
                "scannumber=df.iloc[0,0]\r\n",
                "scannumber=str(scannumber)\r\n",
                "xaxis= df.iloc[0,0:]\r\n",
                "plot = dfextract['bzero'].plot(title=\"RS scan \"+scannumber)\r\n",
                "default_x_ticks = range(len(df.iloc[0:,0]))\r\n",
                "#find peaks"
            ],
            "metadata": {
                "language": "python",
                "azdata_cell_guid": "be9ad5ff-ca43-448e-82ed-967993345011",
                "tags": [
                    "hide_input"
                ]
            },
            "outputs": [
                {
                    "data": {
                        "text/plain": "<Figure size 432x288 with 1 Axes>",
                        "image/png": "[encoded data removed]"
                    },
                    "metadata": {
                        "needs_background": "light"
                    },
                    "output_type": "display_data"
                }
            ],
            "execution_count": 218
        },
        {
            "cell_type": "code",
            "source": [
                "#find peaks\r\n",
                "# positions 1526. 1325, 1156, and 747 cm-1\r\n",
                "p1= dfextract['bzero'].loc[1526]\r\n",
                "p1=float(p1)\r\n",
                "p2= dfextract['bzero'].loc[1325]\r\n",
                "p2=float(p2)\r\n",
                "p3= dfextract['bzero'].loc[1156]\r\n",
                "p3=float(p3)\r\n",
                "p4= dfextract['bzero'].loc[747]\r\n",
                "p4=float(p4)\r\n",
                "\r\n",
                "# set peak threshold\r\n",
                "pthreshold = input('Enter the minimum peak threshold counts ')\r\n",
                "pthreshold= float(pthreshold)\r\n",
                "#pass fail arguements for peak height\r\n",
                "if p1 >= pthreshold:\r\n",
                "  print(\"RS Passed peak 1 1526 cm-1 threshold\")\r\n",
                "else:\r\n",
                "  print(\"RS FAILED peak 1 1526 cm-1 threshold\")\r\n",
                "\r\n",
                "if p2 >= pthreshold:\r\n",
                "  print(\"RS Passed peak 2 1325 cm-1 threshold\")\r\n",
                "else:\r\n",
                "  print(\"RS FAILED peak 2 1325 cm-1 threshold\")\r\n",
                "\r\n",
                "if p3 >= pthreshold:\r\n",
                "  print(\"RS Passed peak 3 1156 cm-1 threshold\")\r\n",
                "else:\r\n",
                "  print(\"RS FAILED peak 3 1156 cm-1 threshold\")\r\n",
                "\r\n",
                "if p4 >= pthreshold:\r\n",
                "  print(\"RS Passed peak 4 747 cm-1 threshold\")\r\n",
                "else:\r\n",
                "  print(\"RS FAILED peak 4 747 cm-1 threshold\")\r\n",
                ""
            ],
            "metadata": {
                "language": "python",
                "azdata_cell_guid": "1aeb9cb0-e3b9-400a-96ab-d55bbd820743"
            },
            "outputs": [
                {
                    "name": "stdout",
                    "text": "RS Passed peak 1 1526 cm-1 threshold\nRS Passed peak 2 1325 cm-1 threshold\nRS Passed peak 3 1156 cm-1 threshold\nRS Passed peak 4 747 cm-1 threshold\n",
                    "output_type": "stream"
                }
            ],
            "execution_count": 229
        },
        {
            "cell_type": "code",
            "source": [
                "#Final pass fail\r\n",
                "if ((snrt <= snrcalc) and (p1 >= pthreshold) and (p2 >= pthreshold) and (p3 >= pthreshold) and (p4 >= pthreshold)):\r\n",
                "    print(\"PASS\")\r\n",
                "else:\r\n",
                "    print(\"FAIL\")\r\n",
                "plot = dfextract['bzero'].plot(title=\"RS scan \"+scannumber)"
            ],
            "metadata": {
                "azdata_cell_guid": "9ef3b939-46c2-4c8f-88e6-b8ede686bef7",
                "language": "python"
            },
            "outputs": [
{
    "name": "stdout",
    "text": "PASS\n",
    "output_type": "stream"
}, {
    "data": {
        "text/plain": "<Figure size 432x288 with 1 Axes>",
        "image/png": "[encoded data removed]"
    },
    "metadata": {
        "needs_background": "light"
    },
    "output_type": "display_data"
}
],
            "execution_count": 230
        }
    ]
}